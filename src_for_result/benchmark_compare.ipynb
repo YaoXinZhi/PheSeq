{
 "cells": [
  {
   "cell_type": "code",
   "execution_count": 165,
   "id": "f6182544",
   "metadata": {},
   "outputs": [],
   "source": [
    "import os\n",
    "\n",
    "from collections import defaultdict\n",
    "import gzip\n",
    "\n",
    "import matplotlib.pyplot as plt\n",
    "import numpy as np\n",
    "\n",
    "import venn"
   ]
  },
  {
   "cell_type": "code",
   "execution_count": 151,
   "id": "927171ae",
   "metadata": {},
   "outputs": [],
   "source": [
    "# This two file need to be downloaded from https://ftp.ncbi.nih.gov/gene/DATA/\n",
    "gene_ensemble_file = '../../ncbi_data/gene2ensembl'\n",
    "gene_info_file = '/home/xzyao/ncbi_data/gene_info.gz'\n",
    "\n",
    "ensemble_to_entrez = {}\n",
    "with open(gene_ensemble_file) as f:\n",
    "    for line in f:\n",
    "        l = line.strip().split('\\t')\n",
    "        \n",
    "        if l[0] != '9606':\n",
    "            continue\n",
    "        \n",
    "        entrez = l[1]\n",
    "        \n",
    "        ensemble = l[-1].split('.')[0]\n",
    "        \n",
    "        ensemble_to_entrez[ensemble] = entrez\n"
   ]
  },
  {
   "cell_type": "code",
   "execution_count": 152,
   "id": "dbeea579",
   "metadata": {},
   "outputs": [],
   "source": [
    "# read gene_info.gz\n",
    "entrez_to_symbol = {}\n",
    "symbol_to_entrez = {}\n",
    "with gzip.open(gene_info_file, 'r') as f:\n",
    "    f.readline()\n",
    "    for line in f:\n",
    "        l = line.decode('utf-8').strip().split('\\t')\n",
    "\n",
    "        tax_id = l[0]\n",
    "        if tax_id != '9606':\n",
    "            continue\n",
    "        entrez = l[1]\n",
    "        symbol = l[2]\n",
    "\n",
    "        entrez_to_symbol[entrez] = symbol\n",
    "        symbol_to_entrez[symbol] = entrez\n"
   ]
  },
  {
   "cell_type": "code",
   "execution_count": 153,
   "id": "1be7e9cc",
   "metadata": {},
   "outputs": [],
   "source": [
    "# read DISEASE file\n",
    "# This three file need to be downloaded form https://diseases.jensenlab.org/Downloads\n",
    "\n",
    "experiments_file = '../data/DISEASES_data/human_disease_experiments_full.tsv'\n",
    "\n",
    "knowledge_file = '../data/DISEASES_data/human_disease_knowledge_full.tsv'\n",
    "\n",
    "textmining_file = '../data/DISEASES_data/human_disease_textmining_filtered.tsv'\n",
    "\n",
    "\n",
    "def read_benchmark(benchmark_file: str, ensemble_entrez_dict: dict,\\\n",
    "                   disease_idx: str, \\\n",
    "                   #sig_gene_set: set\n",
    "                  ):\n",
    "    \n",
    "    \n",
    "    gene_dis_pair_set = set()\n",
    "    related_gene_set = set()\n",
    "    \n",
    "    miss_gene_set = set()\n",
    "    with open(benchmark_file) as f:\n",
    "        for line in f:\n",
    "            l = line.strip().split('\\t')\n",
    "            \n",
    "            # ensemble id\n",
    "            gene_id = l[0]\n",
    "            \n",
    "            gene_symbol = l[1]\n",
    "            \n",
    "            # ICD10 ID\n",
    "            disease_id = l[2]\n",
    "            \n",
    "            if disease_id == disease_idx:\n",
    "                \n",
    "                if not ensemble_entrez_dict.get(gene_id):\n",
    "                    miss_gene_set.add(gene_symbol)\n",
    "                    continue\n",
    "                \n",
    "                entrez = ensemble_entrez_dict[gene_id]\n",
    "                \n",
    "                gene_dis_pair_set.add((entrez, disease_id))\n",
    "                related_gene_set.add(entrez)\n",
    "    \n",
    "    print(f'Total {len(gene_dis_pair_set):,} Gene-Disease pairs.')\n",
    "    return related_gene_set\n"
   ]
  },
  {
   "cell_type": "code",
   "execution_count": 154,
   "id": "7e1a2837",
   "metadata": {},
   "outputs": [],
   "source": [
    "def MRR_calculate(top_n_list: list, benchmark_set: set):\n",
    "    # https://towardsdatascience.com/ranking-evaluation-metrics-for-recommender-systems-263d0a66ef54\n",
    "    \n",
    "    Q = len(benchmark_set)\n",
    "    R = 0\n",
    "    \n",
    "    target_count = 0\n",
    "    for gene in benchmark_set:\n",
    "        \n",
    "        if gene in top_n_list:\n",
    "            target_count += 1\n",
    "            rank = top_n_list.index(gene) + 1\n",
    "\n",
    "            R += 1 / rank\n",
    "        else:\n",
    "            R += 0\n",
    "\n",
    "    return R/Q\n",
    "    "
   ]
  },
  {
   "cell_type": "code",
   "execution_count": 155,
   "id": "56313d33",
   "metadata": {},
   "outputs": [],
   "source": [
    "def hit_calculate(top_n_list: list, benchmark_set: set, topn: int):\n",
    "    # https://stackoverflow.com/questions/58796367/how-is-hitsk-calculated-and-what-does-it-mean-in-the-context-of-link-prediction\n",
    "    total_hit = 0\n",
    "    hit_count = 0\n",
    "    for idx, gene in enumerate(top_n_list):\n",
    "        if gene in benchmark_set:\n",
    "            total_hit += 1\n",
    "            \n",
    "            if idx < topn:\n",
    "                hit_count += 1\n",
    "                \n",
    "    return hit_count / total_hit\n",
    "    "
   ]
  },
  {
   "cell_type": "code",
   "execution_count": 156,
   "id": "1ec13939",
   "metadata": {},
   "outputs": [],
   "source": [
    "def precision_recall_calculate(top_n_list: list, benchmark_set, topn='all'):\n",
    "    \n",
    "    if topn == 'all':\n",
    "        topn = len(top_n_list)\n",
    "    \n",
    "    total_hit = 0\n",
    "    for idx, gene in enumerate(top_n_list):\n",
    "        if gene in benchmark_set and idx < topn:\n",
    "            total_hit += 1\n",
    "        \n",
    "        if idx > topn:\n",
    "            break\n",
    "        \n",
    "    \n",
    "    return total_hit / topn, total_hit/ len(benchmark_set)\n",
    "    \n",
    "    "
   ]
  },
  {
   "cell_type": "code",
   "execution_count": 157,
   "id": "8784a80a",
   "metadata": {},
   "outputs": [],
   "source": [
    "def read_symbol_entrez_p_file(symbol_entrez_p_file: str, top_n=None):\n",
    "    \n",
    "    entrez_to_p = {}\n",
    "    entrez_to_symbol = {}\n",
    "    with open(symbol_entrez_p_file) as f:\n",
    "        for line in f:\n",
    "            symbol, entrez, p = line.strip().split('\\t')\n",
    "            p = float(p)\n",
    "            \n",
    "            entrez_to_p[entrez] = p\n",
    "            entrez_to_symbol[entrez] = symbol\n",
    "            \n",
    "    entrez_sorted = sorted(entrez_to_p, key=lambda x: entrez_to_p[x])\n",
    "    if top_n is None:\n",
    "        return entrez_to_p, entrez_to_symbol, entrez_sorted\n",
    "    else:\n",
    "        new_entrez_to_p = {entrez: {entrez_to_p[entrez]} for entrez in entrez_sorted[:top_n]}\n",
    "        return new_entrez_to_p, entrez_to_symbol, entrez_sorted[:top_n]"
   ]
  },
  {
   "cell_type": "code",
   "execution_count": null,
   "id": "ae3ac9ee",
   "metadata": {},
   "outputs": [],
   "source": []
  },
  {
   "cell_type": "code",
   "execution_count": 243,
   "id": "25236879",
   "metadata": {},
   "outputs": [
    {
     "name": "stdout",
     "output_type": "stream",
     "text": [
      "top gene list: 3,288\n"
     ]
    }
   ],
   "source": [
    "# Comparison of EMFAS results and DISEASES\n",
    "\n",
    "# report file\n",
    "ensembel_file = 'type the report file'\n",
    "\n",
    "# top-n gene for visualization\n",
    "top_n = 50\n",
    "\n",
    "entrez_hpo_count = {}\n",
    "with open(ensembel_file) as f:\n",
    "    f.readline()\n",
    "    for line in f:\n",
    "        l = line.strip().split('\\t')\n",
    "        \n",
    "        entrez = l[0]\n",
    "        symbol = l[1]\n",
    "        \n",
    "        tag_count = int(l[-1])\n",
    "        \n",
    "        sent_count = int(l[13])\n",
    "        \n",
    "        entrez_hpo_count[entrez] = tag_count\n",
    "   \n",
    "top_gene_list = sorted(entrez_hpo_count, key=lambda x: entrez_hpo_count[x], reverse=True)[:top_n]\n",
    "\n",
    "top_gene_set = set(top_gene_list)\n",
    "\n",
    "print(f'top gene list: {len(top_gene_list):,}')"
   ]
  },
  {
   "cell_type": "code",
   "execution_count": 244,
   "id": "d4b6f864",
   "metadata": {},
   "outputs": [
    {
     "name": "stdout",
     "output_type": "stream",
     "text": [
      "GWAS genes: 17,894\n"
     ]
    }
   ],
   "source": [
    "# 取出 AD的 GWAS基因\n",
    "alzheimer_file = 'type your symbol-entrez-p file.'\n",
    "\n",
    "gwas_top_n = None\n",
    "\n",
    "entrez_to_p, entrez_to_symbol, gwas_top_entrez_list = read_symbol_entrez_p_file(alzheimer_file, gwas_top_n)\n",
    "\n",
    "print(f'GWAS genes: {len(gwas_top_entrez_list):,}')"
   ]
  },
  {
   "cell_type": "code",
   "execution_count": 245,
   "id": "a7027bd8",
   "metadata": {},
   "outputs": [
    {
     "name": "stdout",
     "output_type": "stream",
     "text": [
      "Experiments:\n",
      "Total 317 Gene-Disease pairs.\n",
      "Knowledge:\n",
      "Total 26 Gene-Disease pairs.\n",
      "text mining:\n",
      "Total 290 Gene-Disease pairs.\n",
      "total benchmark gene: 578\n"
     ]
    }
   ],
   "source": [
    "# 读取DISEASES数据库\n",
    "# DOID:10652\tAlzheimer's disease\n",
    "dis_id = 'Type your Disease id, it can be found in DISEASES database. like: Alzheimer\\' s disease is DOIS:10652'\n",
    "\n",
    "print('Experiments:')\n",
    "experiments_gene_set= read_benchmark(experiments_file,ensemble_to_entrez, dis_id)\n",
    "print('Knowledge:')\n",
    "knowledge_gene_set = read_benchmark(knowledge_file, ensemble_to_entrez, dis_id)\n",
    "print('text mining:')\n",
    "textmining_gene_set = read_benchmark(textmining_file, ensemble_to_entrez, dis_id)\n",
    "\n",
    "total_benchmark_gene_set = experiments_gene_set|knowledge_gene_set|textmining_gene_set\n",
    "print(f'total benchmark gene: {len(total_benchmark_gene_set)}')"
   ]
  },
  {
   "cell_type": "code",
   "execution_count": 246,
   "id": "e5b95035",
   "metadata": {},
   "outputs": [],
   "source": [
    "# 统计EMFAS结果的y\n",
    "top_n_plot = 50\n",
    "\n",
    "count_emfas = 0\n",
    "y_emfas = []\n",
    "\n",
    "count_gwas = 0\n",
    "y_gwas = []\n",
    "for i in range(top_n_plot):\n",
    "    if top_gene_list[i] in total_benchmark_gene_set:\n",
    "        count_emfas += 1\n",
    "        #count_emfas = 1\n",
    "        #print('hit')\n",
    "    #print(count_emfas)\n",
    "    y_emfas.append(count_emfas)\n",
    "    \n",
    "    if gwas_top_entrez_list[i] in total_benchmark_gene_set:\n",
    "        count_gwas += 1\n",
    "    y_gwas.append(count_gwas)\n"
   ]
  },
  {
   "cell_type": "code",
   "execution_count": 247,
   "id": "13305d5c",
   "metadata": {},
   "outputs": [],
   "source": [
    "# type your fig save path.\n",
    "fig_save_path = 'type your fig save path'\n",
    "if not os.path.exists(fig_save_path):\n",
    "    os.mkdir(fig_save_path)"
   ]
  },
  {
   "cell_type": "code",
   "execution_count": 248,
   "id": "96d338b8",
   "metadata": {},
   "outputs": [
    {
     "data": {
      "image/png": "[encoded data removed]",
      "text/plain": [
       "<Figure size 1080x1080 with 1 Axes>"
      ]
     },
     "metadata": {
      "needs_background": "light"
     },
     "output_type": "display_data"
    },
    {
     "name": "stdout",
     "output_type": "stream",
     "text": [
      "../result/Fig_comparison_DISEASES/AD_top_50.png save done.\n"
     ]
    }
   ],
   "source": [
    "\n",
    "fig_save_file = f'{fig_save_path}/fig_name.png'\n",
    "\n",
    "x = np.linspace(1, 50, 50)\n",
    "\n",
    "y_emfas = np.array(y_emfas)\n",
    "y_gwas = np.array(y_gwas)\n",
    "\n",
    "font_size = 40\n",
    "\n",
    "fig, ax = plt.subplots(figsize=(15, 15))\n",
    "\n",
    "emfas_line, = ax.step(x, y_emfas, color='#e30039', where='pre', lw=6)\n",
    "gwas_line, = ax.step(x, y_gwas, color='#00a8e1', where='pre', lw=6)\n",
    "\n",
    "ax.set_xlim(0, 51)\n",
    "ax.set_xticks(np.arange(1, 51, 7))\n",
    "\n",
    "ax.set_yticks(np.arange(0, 41, 5))\n",
    "\n",
    "\n",
    "ax.spines['right'].set_visible(False)\n",
    "ax.spines['top'].set_visible(False)\n",
    "\n",
    "plt.tick_params(labelsize=font_size)\n",
    "\n",
    "plt.savefig(fig_save_file, dpi=600)\n",
    "plt.show()\n",
    "\n",
    "print(f'{fig_save_file} save done.')"
   ]
  },
  {
   "cell_type": "code",
   "execution_count": 122,
   "id": "38fb0ba6",
   "metadata": {},
   "outputs": [
    {
     "name": "stdout",
     "output_type": "stream",
     "text": [
      "EMFAS genes.\n",
      "Top-3288, TexMining: 201,         Experiments: 126,         Knowledge: 21,         Total: 297\n",
      "Top-50, TexMining: 24,             Experiments: 13,             Knowledge: 10,             Total: 26\n",
      "Top-100, TexMining: 35,             Experiments: 18,             Knowledge: 12,             Total: 38\n",
      "Top-1000, TexMining: 118,             Experiments: 49,             Knowledge: 18,             Total: 142\n"
     ]
    }
   ],
   "source": [
    "# 打印Top n 基因中分别有多少被这三类包含\n",
    "top_n_compare_list = [50, 100, 1000]\n",
    "\n",
    "print(f'EMFAS genes.')\n",
    "\n",
    "print(f'Top-{top_n}, TexMining: {len(top_gene_set&textmining_gene_set)}, \\\n",
    "        Experiments: {len(top_gene_set&experiments_gene_set)}, \\\n",
    "        Knowledge: {len(top_gene_set&knowledge_gene_set)}, \\\n",
    "        Total: {len(top_gene_set&total_benchmark_gene_set)}')\n",
    "\n",
    "\n",
    "for top_n_compare in top_n_compare_list:\n",
    "    print(f'Top-{top_n_compare}, TexMining: {len(set(top_gene_list[:top_n_compare])&textmining_gene_set)}, \\\n",
    "            Experiments: {len(set(top_gene_list[:top_n_compare])&experiments_gene_set)}, \\\n",
    "            Knowledge: {len(set(top_gene_list[:top_n_compare])&knowledge_gene_set)}, \\\n",
    "            Total: {len(set(top_gene_list[:top_n_compare])&total_benchmark_gene_set)}')\n"
   ]
  },
  {
   "cell_type": "code",
   "execution_count": 123,
   "id": "398381b0",
   "metadata": {},
   "outputs": [
    {
     "name": "stdout",
     "output_type": "stream",
     "text": [
      "Sequence Analysis genes.\n",
      "Top-149, TexMining: 8,         Experiments: 54,         Knowledge: 2,         Total: 56\n",
      "Top-50, TexMining: 4,             Experiments: 22,             Knowledge: 0,             Total: 24\n",
      "Top-100, TexMining: 7,             Experiments: 43,             Knowledge: 2,             Total: 45\n",
      "Top-1000, TexMining: 23,             Experiments: 109,             Knowledge: 5,             Total: 123\n"
     ]
    }
   ],
   "source": [
    "gwas_top_entrez_list\n",
    "\n",
    "# 打印Top n 基因来自于 Sequence Analysis中分别有多少被这三类包含\n",
    "\n",
    "# AD\n",
    "gwas_top_n = 149\n",
    "\n",
    "top_n_compare_list = [50, 100, 1000]\n",
    "\n",
    "\n",
    "print(f'Sequence Analysis genes.')\n",
    "\n",
    "print(f'Top-{gwas_top_n}, TexMining: {len(set(gwas_top_entrez_list[:gwas_top_n])&textmining_gene_set)}, \\\n",
    "        Experiments: {len(set(gwas_top_entrez_list[:gwas_top_n])&experiments_gene_set)}, \\\n",
    "        Knowledge: {len(set(gwas_top_entrez_list[:gwas_top_n])&knowledge_gene_set)}, \\\n",
    "        Total: {len(set(gwas_top_entrez_list[:gwas_top_n])&total_benchmark_gene_set)}')\n",
    "\n",
    "for top_n_compare in top_n_compare_list:\n",
    "    print(f'Top-{top_n_compare}, TexMining: {len(set(gwas_top_entrez_list[:top_n_compare])&textmining_gene_set)}, \\\n",
    "            Experiments: {len(set(gwas_top_entrez_list[:top_n_compare])&experiments_gene_set)}, \\\n",
    "            Knowledge: {len(set(gwas_top_entrez_list[:top_n_compare])&knowledge_gene_set)}, \\\n",
    "            Total: {len(set(gwas_top_entrez_list[:top_n_compare])&total_benchmark_gene_set)}')\n"
   ]
  },
  {
   "cell_type": "code",
   "execution_count": 48,
   "id": "cbe4b282",
   "metadata": {},
   "outputs": [
    {
     "name": "stdout",
     "output_type": "stream",
     "text": [
      "Experiments MRR: 0.003433\n",
      "Knowledge MRR: 0.099491\n",
      "Textmining MRR: 0.012776\n",
      "Total MRR: 0.006702\n"
     ]
    }
   ],
   "source": [
    "print(f'Experiments MRR: {MRR_calculate(top_gene_list, experiments_gene_set):.6f}')\n",
    "print(f'Knowledge MRR: {MRR_calculate(top_gene_list, knowledge_gene_set):.6f}')\n",
    "print(f'Textmining MRR: {MRR_calculate(top_gene_list, textmining_gene_set):.6f}')\n",
    "print(f'Total MRR: {MRR_calculate(top_gene_list, total_benchmark_gene_set):.6f}')"
   ]
  },
  {
   "cell_type": "code",
   "execution_count": 49,
   "id": "da08e14c",
   "metadata": {},
   "outputs": [
    {
     "name": "stdout",
     "output_type": "stream",
     "text": [
      "Hit@5: 0.0149\n",
      "Hit@10: 0.0297\n",
      "Hit@20: 0.0483\n",
      "Hit@50: 0.0967\n",
      "Hit@100: 0.1413\n",
      "Hit@3281: 1.0000\n"
     ]
    }
   ],
   "source": [
    "print(f'Hit@5: {hit_calculate(top_gene_list, total_benchmark_gene_set, 5):.4f}')\n",
    "print(f'Hit@10: {hit_calculate(top_gene_list, total_benchmark_gene_set, 10):.4f}')\n",
    "print(f'Hit@20: {hit_calculate(top_gene_list, total_benchmark_gene_set, 20):.4f}')\n",
    "print(f'Hit@50: {hit_calculate(top_gene_list, total_benchmark_gene_set, 50):.4f}')\n",
    "print(f'Hit@100: {hit_calculate(top_gene_list, total_benchmark_gene_set, 100):.4f}')\n",
    "print(f'Hit@3281: {hit_calculate(top_gene_list, total_benchmark_gene_set, 3281):.4f}')"
   ]
  },
  {
   "cell_type": "code",
   "execution_count": 50,
   "id": "ae71ba86",
   "metadata": {},
   "outputs": [
    {
     "name": "stdout",
     "output_type": "stream",
     "text": [
      "precision: 0.0929, recall: 0.4654\n"
     ]
    }
   ],
   "source": [
    "precision, recall = precision_recall_calculate(top_gene_list, total_benchmark_gene_set)\n",
    "print(f'precision: {precision:.4f}, recall: {recall:.4f}')"
   ]
  },
  {
   "cell_type": "code",
   "execution_count": 51,
   "id": "3827b108",
   "metadata": {},
   "outputs": [
    {
     "name": "stderr",
     "output_type": "stream",
     "text": [
      "/home/xzyao/.local/lib/python3.9/site-packages/venn/_backwards_compatibility.py:15: UserWarning: `get_labels()` is retained for backwards compatibility; use `generate_petal_labels()` or the higher level `venn()` instead\n",
      "  warn((\n",
      "/home/xzyao/.local/lib/python3.9/site-packages/venn/_backwards_compatibility.py:30: UserWarning: `venn4()` is retained for backwards compatibility; use `venn()` instead\n",
      "  warn((\n"
     ]
    },
    {
     "data": {
      "image/png": "[encoded data removed]",
      "text/plain": [
       "<Figure size 648x648 with 1 Axes>"
      ]
     },
     "metadata": {},
     "output_type": "display_data"
    }
   ],
   "source": [
    "labels = venn.get_labels([top_gene_set, experiments_gene_set, knowledge_gene_set, textmining_gene_set],\n",
    "                          fill=['number'])\n",
    "fig, ax = venn.venn3(labels, names=['Lit', 'Experiments', 'Knowledge', 'Textmining'])\n",
    "fig.show()"
   ]
  }
 ],
 "metadata": {
  "kernelspec": {
   "display_name": "Python 3 (ipykernel)",
   "language": "python",
   "name": "python3"
  },
  "language_info": {
   "codemirror_mode": {
    "name": "ipython",
    "version": 3
   },
   "file_extension": ".py",
   "mimetype": "text/x-python",
   "name": "python",
   "nbconvert_exporter": "python",
   "pygments_lexer": "ipython3",
   "version": "3.9.1"
  }
 },
 "nbformat": 4,
 "nbformat_minor": 5
}
