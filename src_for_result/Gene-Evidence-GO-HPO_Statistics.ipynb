{
 "cells": [
  {
   "cell_type": "code",
   "execution_count": 117,
   "id": "79fa13ab",
   "metadata": {},
   "outputs": [],
   "source": [
    "import os\n",
    "from collections import defaultdict\n",
    "import numpy as np\n",
    "\n",
    "import numpy as np\n",
    "import matplotlib.pyplot as plt\n",
    "\n",
    "import seaborn as sns\n",
    "\n",
    "#plt.style.use('ggplot')"
   ]
  },
  {
   "cell_type": "code",
   "execution_count": 118,
   "id": "19e35a10",
   "metadata": {},
   "outputs": [],
   "source": [
    "# 改代码用于统计三个疾病结果中\n",
    "# 每个基因的证据数量\n",
    "# 每个基因对应的GO数量\n",
    "# 每个基因对应的HPO数量"
   ]
  },
  {
   "cell_type": "code",
   "execution_count": 119,
   "id": "2009855d",
   "metadata": {},
   "outputs": [],
   "source": [
    "def print_sta_count(num_to_count: dict, save_file: str, pr=False):\n",
    "    \n",
    "    keys = sorted(num_to_count.keys(), key=lambda x: x)\n",
    "    \n",
    "    wf = open(save_file, 'w')\n",
    "    wf.write(f'Number\\tCount\\n')\n",
    "    for num in keys:\n",
    "        if num == 0:\n",
    "            continue\n",
    "        if pr:\n",
    "            print(f'{num}\\t{num_to_count[num]}')\n",
    "        \n",
    "        wf.write(f'{num}\\t{num_to_count[num]}\\n')\n",
    "        \n",
    "    wf.close()\n",
    "    print(f'{save_file} save done.')"
   ]
  },
  {
   "cell_type": "code",
   "execution_count": 120,
   "id": "f55bf0f3",
   "metadata": {},
   "outputs": [],
   "source": [
    "# 统计每个基因在原始文件中有多少文本证据\n",
    "\n",
    "evidence_file = \"../data/AGAC_tagging_data/AD.pmc.tagging.txt\"\n",
    "\n",
    "gene_to_evidence = defaultdict(set)\n",
    "\n",
    "with open(evidence_file) as f:\n",
    "    for line in f:\n",
    "        l = line.strip().split('\\t')\n",
    "        \n",
    "        sent = l[2]\n",
    "        \n",
    "        tags = [eval(tag) for tag in l[3:]]\n",
    "        \n",
    "        for tag in tags:\n",
    "            if tag[1] == 'Gene' and len(tag) == 4:\n",
    "                gene_to_evidence[tag[2]].add(sent)\n",
    "                "
   ]
  },
  {
   "cell_type": "code",
   "execution_count": 121,
   "id": "567338ba",
   "metadata": {},
   "outputs": [],
   "source": [
    "def interval_sta(evi_count_dict: dict):\n",
    "    \n",
    "    interval_sta = defaultdict(int)\n",
    "    \n",
    "    for num, cou in evi_count_dict.items():\n",
    "        \n",
    "        if num <= 10:\n",
    "            interval_sta[10] += cou\n",
    "        elif 10 <num <= 20:\n",
    "            interval_sta[20] += cou\n",
    "        elif 20 < num <= 30:\n",
    "            interval_sta[30] += cou\n",
    "        elif 30<num<=40:\n",
    "            interval_sta[40] += cou\n",
    "        elif 40<num<=50:\n",
    "            interval_sta[50] += cou\n",
    "    \n",
    "    return interval_sta\n",
    "        "
   ]
  },
  {
   "cell_type": "code",
   "execution_count": 122,
   "id": "8c089f96",
   "metadata": {},
   "outputs": [],
   "source": [
    "\n"
   ]
  },
  {
   "cell_type": "code",
   "execution_count": null,
   "id": "05281617",
   "metadata": {},
   "outputs": [],
   "source": [
    "fig_save_path = 'Type in the path to be used for image storage' \n",
    "\n",
    "report_file = '../data/Supplementary_experiment/BreastCancer_dir_new/ensemble_result/BreastCancer.ensemble.final.txt'\n"
   ]
  },
  {
   "cell_type": "code",
   "execution_count": null,
   "id": "66f9c48b",
   "metadata": {},
   "outputs": [],
   "source": [
    "\n",
    "if not os.path.exists(fig_save_path):\n",
    "    os.mkdir(fig_save_path)\n"
   ]
  },
  {
   "cell_type": "code",
   "execution_count": 249,
   "id": "d53a2026",
   "metadata": {},
   "outputs": [
    {
     "name": "stdout",
     "output_type": "stream",
     "text": [
      "top_gene: 255\n"
     ]
    }
   ],
   "source": [
    "# Breast cancer\n",
    "\n",
    "gene_to_evi_count = defaultdict(int)\n",
    "\n",
    "gene_to_go = defaultdict(set)\n",
    "\n",
    "gene_to_hpo = defaultdict(set)\n",
    "\n",
    "\n",
    "top_n = 255 \n",
    "\n",
    "gene_to_mix_score = {}\n",
    "line_count = 0\n",
    "with open(report_file, encoding='utf-8') as f:\n",
    "    f.readline()\n",
    "    for line in f:\n",
    "        l = line.strip().split('\\t')\n",
    "        \n",
    "        entrez = l[0]\n",
    "        symbol = l[1]\n",
    "        mix_score = float(l[-1])\n",
    "        \n",
    "        gene_to_mix_score[entrez] = mix_score \n",
    "        \n",
    "        \n",
    "        evi_count = int(l[-6])\n",
    "        \n",
    "        tags = l[-3].split('  ')\n",
    "        \n",
    "        for tag in tags:\n",
    "            if tag.startswith('Phenotype'):\n",
    "                gene_to_hpo[entrez].add(tag)\n",
    "            if tag.startswith('GO'):\n",
    "                gene_to_go[entrez].add(tag)\n",
    "        \n",
    "        gene_to_evi_count[entrez] += evi_count\n",
    "        \n",
    "        \n",
    "top_gene_list = list(sorted(gene_to_mix_score.keys(), key=lambda x: gene_to_mix_score[x], reverse=True))[:top_n]        \n",
    "\n",
    "top_gene_set = set(top_gene_list)\n",
    "\n",
    "print(f'top_gene: {len(top_gene_list)}')"
   ]
  },
  {
   "cell_type": "code",
   "execution_count": 250,
   "id": "4bdffcbc",
   "metadata": {},
   "outputs": [
    {
     "name": "stdout",
     "output_type": "stream",
     "text": [
      "Top 255, Lit: 2,250, GO: 1,075, HPO: 27\n"
     ]
    }
   ],
   "source": [
    "# 打印全局的统计结果\n",
    "go_set = set()\n",
    "hpo_set = set()\n",
    "sent_count = 0\n",
    "\n",
    "for entrez in top_gene_list:\n",
    "    go_set.update(gene_to_go[entrez])\n",
    "    hpo_set.update(gene_to_hpo[entrez])\n",
    "    sent_count += gene_to_evi_count[entrez]\n",
    "\n",
    "print(f'Top {top_n}, Lit: {sent_count:,}, GO: {len(go_set):,}, HPO: {len(hpo_set):,}')"
   ]
  },
  {
   "cell_type": "code",
   "execution_count": 251,
   "id": "17c65dcd",
   "metadata": {},
   "outputs": [
    {
     "name": "stdout",
     "output_type": "stream",
     "text": [
      "gene count: 123\n",
      "../result/result_statistics/BC.evi.tsv save done.\n",
      "../result/result_statistics/BC.go.tsv save done.\n",
      "../result/result_statistics/BC.hpo.tsv save done.\n"
     ]
    }
   ],
   "source": [
    "evi_count_dict = defaultdict(int)\n",
    "go_count_dict = defaultdict(int)\n",
    "hpo_count_dict = defaultdict(int)\n",
    "\n",
    "evi_count_list = []\n",
    "go_count_list = []\n",
    "hpo_count_list = []\n",
    "\n",
    "\n",
    "for entrez in top_gene_list:\n",
    "    #evi_count_dict[gene_to_evi_count[entrez]] += 1\n",
    "    if len(gene_to_evidence[entrez]) != 0:\n",
    "        evi_count_dict[len(gene_to_evidence[entrez])] += 1\n",
    "        evi_count_list.append(len(gene_to_evidence[entrez]))\n",
    "    \n",
    "    if len(gene_to_go[entrez]) != 0:\n",
    "        go_count_dict[len(gene_to_go[entrez])] += 1\n",
    "        go_count_list.append(len(gene_to_go[entrez]))\n",
    "    \n",
    "    if len(gene_to_hpo[entrez]) != 0:\n",
    "        hpo_count_dict[len(gene_to_hpo[entrez])] += 1\n",
    "        hpo_count_list.append(len(gene_to_hpo[entrez]))\n",
    "\n",
    "print(f'gene count: {len(evi_count_list):,}')\n",
    "        \n",
    "dis = 'BC'\n",
    "\n",
    "evi_save_file = f'../result/result_statistics/{dis}.evi.tsv'\n",
    "\n",
    "go_save_file = f'../result/result_statistics/{dis}.go.tsv'\n",
    "\n",
    "hpo_save_file = f'../result/result_statistics/{dis}.hpo.tsv'\n",
    "\n",
    "print_sta_count(evi_count_dict, evi_save_file)\n",
    "\n",
    "print_sta_count(go_count_dict, go_save_file)\n",
    "\n",
    "print_sta_count(hpo_count_dict, hpo_save_file)"
   ]
  },
  {
   "cell_type": "code",
   "execution_count": 252,
   "id": "46bf53a6",
   "metadata": {},
   "outputs": [
    {
     "name": "stdout",
     "output_type": "stream",
     "text": [
      "../result/Fig_Evi-GO-HPO/BC.evi.png save done.\n"
     ]
    },
    {
     "data": {
      "image/png": "[encoded data removed]",
      "text/plain": [
       "<Figure size 720x504 with 1 Axes>"
      ]
     },
     "metadata": {
      "needs_background": "light"
     },
     "output_type": "display_data"
    }
   ],
   "source": [
    "# 利用自动的plt.hist绘图\n",
    "\n",
    "font_size = 30\n",
    "\n",
    "fig, ax = plt.subplots(figsize=(10, 7))\n",
    "\n",
    "#plt.figure(figsize=(10,7))\n",
    "x = evi_count_list.copy()\n",
    "bins = np.arange(0, 51, 10)\n",
    "width=10\n",
    "\n",
    "rects = ax.hist(x, bins=bins, color='gray', alpha=0.5, width=width, edgecolor='black')\n",
    "#plt.hist(x, bins=5, color='gray', alpha=0.5, width=width)\n",
    "\n",
    "bar_num = []\n",
    "for i in rects[0]:\n",
    "    bar_num.append(int(i))\n",
    "\n",
    "#for i in bar_num:\n",
    "#    plt.text(x=bins[bar_num.index(i)] + 3, y = i + 5, s= str(i), fontsize=font_size-10)\n",
    "    \n",
    "ax.spines['right'].set_visible(False)\n",
    "ax.spines['top'].set_visible(False)\n",
    "\n",
    "#ax.set_title('AD Evidence statistics', fontsize=20,)\n",
    "ax.set_title('BC Evidence statistics', font = {'family': 'Times New Roman',\n",
    "         #'style': 'italic',\n",
    "         'weight': 'normal',\n",
    "        'size': font_size,\n",
    "        }).set_ha(\"center\")  \n",
    "\n",
    "plt.tick_params(labelsize=font_size)\n",
    "\n",
    "labels = ax.get_xticklabels() + ax.get_yticklabels()\n",
    "\n",
    "a =[label.set_fontname('Times New Roman') for label in labels]\n",
    "\n",
    "fig_save_file = f'{fig_save_path}/BC.evi.png'\n",
    "plt.savefig(fig_save_file, dpi=600)\n",
    "\n",
    "print(f'{fig_save_file} save done.')"
   ]
  },
  {
   "cell_type": "code",
   "execution_count": 255,
   "id": "15a96989",
   "metadata": {},
   "outputs": [
    {
     "name": "stdout",
     "output_type": "stream",
     "text": [
      "../result/Fig_Evi-GO-HPO/BC.GO.png save done.\n"
     ]
    },
    {
     "data": {
      "image/png": "[encoded data removed]",
      "text/plain": [
       "<Figure size 720x504 with 1 Axes>"
      ]
     },
     "metadata": {
      "needs_background": "light"
     },
     "output_type": "display_data"
    }
   ],
   "source": [
    "# 利用自动的plt.hist绘图\n",
    "\n",
    "font_size = 30\n",
    "\n",
    "fig, ax = plt.subplots(figsize=(10, 7))\n",
    "\n",
    "x = go_count_list.copy()\n",
    "bins = np.arange(0, 51, 10)\n",
    "width=10\n",
    "\n",
    "rects = ax.hist(x, bins=bins, color='#99cc00', alpha=0.5, width=width, edgecolor='black')\n",
    "\n",
    "bar_num = []\n",
    "for i in rects[0]:\n",
    "    bar_num.append(int(i))\n",
    "\n",
    "#for idx, i in enumerate(bar_num):\n",
    "#    plt.text(x=bins[idx] + 3, y = i +2, s= str(i), fontsize=font_size-10)\n",
    "\n",
    "\n",
    "ax.spines['right'].set_visible(False)\n",
    "ax.spines['top'].set_visible(False)\n",
    "\n",
    "#ax.set_title('AD Evidence statistics', fontsize=20,)\n",
    "ax.set_title('BC GO statistics', font = {'family': 'Times New Roman',\n",
    "         #'style': 'italic',\n",
    "         'weight': 'normal',\n",
    "        'size': font_size,\n",
    "        }).set_ha(\"center\")  \n",
    "\n",
    "plt.tick_params(labelsize=font_size)\n",
    "\n",
    "labels = ax.get_xticklabels() + ax.get_yticklabels()\n",
    "\n",
    "a =[label.set_fontname('Times New Roman') for label in labels]\n",
    "\n",
    "#ax.set_xlim(0,50)\n",
    "ax.set_yticks(np.arange(0, 100, 20))\n",
    "\n",
    "fig_save_file = f'{fig_save_path}/BC.GO.png'\n",
    "plt.savefig(fig_save_file, dpi=600)\n",
    "\n",
    "\n",
    "print(f'{fig_save_file} save done.')"
   ]
  },
  {
   "cell_type": "code",
   "execution_count": 256,
   "id": "ab153265",
   "metadata": {},
   "outputs": [
    {
     "data": {
      "text/plain": [
       "[59, 75, 33, 35, 8]"
      ]
     },
     "execution_count": 256,
     "metadata": {},
     "output_type": "execute_result"
    }
   ],
   "source": [
    "bar_num"
   ]
  },
  {
   "cell_type": "code",
   "execution_count": 260,
   "id": "4e86f125",
   "metadata": {},
   "outputs": [
    {
     "data": {
      "image/png": "[encoded data removed]",
      "text/plain": [
       "<Figure size 720x504 with 1 Axes>"
      ]
     },
     "metadata": {
      "needs_background": "light"
     },
     "output_type": "display_data"
    }
   ],
   "source": [
    "# 利用自动的plt.hist绘图\n",
    "\n",
    "font_size = 30\n",
    "\n",
    "fig, ax = plt.subplots(figsize=(10, 7))\n",
    "\n",
    "x = hpo_count_list.copy()\n",
    "bins = np.arange(0, 9, 2)\n",
    "width=2\n",
    "\n",
    "rects = ax.hist(x, bins=bins, color='darkgreen', alpha=0.5, width=width, edgecolor='black')\n",
    "\n",
    "bar_num = []\n",
    "for i in rects[0]:\n",
    "    bar_num.append(int(i))\n",
    "\n",
    "#for i in bar_num:\n",
    "#    plt.text(x=bins[bar_num.index(i)] + 0.6, y = i + 2, s= str(i), fontsize=font_size-10)\n",
    "\n",
    "ax.spines['right'].set_visible(False)\n",
    "ax.spines['top'].set_visible(False)\n",
    "\n",
    "ax.set_title('BC HPO statistics', font = {'family': 'Times New Roman',\n",
    "         #'style': 'italic',\n",
    "         'weight': 'normal',\n",
    "        'size': font_size,\n",
    "        }).set_ha(\"center\")  \n",
    "\n",
    "plt.tick_params(labelsize=font_size)\n",
    "\n",
    "ax.set_yticks(np.arange(0, 121, 20))\n",
    "\n",
    "labels = ax.get_xticklabels() + ax.get_yticklabels()\n",
    "\n",
    "a =[label.set_fontname('Times New Roman') for label in labels]\n",
    "\n",
    "fig_save_file = f'{fig_save_path}/BC.HPO.png'\n",
    "plt.savefig(fig_save_file, dpi=600)"
   ]
  },
  {
   "cell_type": "code",
   "execution_count": null,
   "id": "1f99cec9",
   "metadata": {},
   "outputs": [],
   "source": []
  },
  {
   "cell_type": "code",
   "execution_count": null,
   "id": "8ac64def",
   "metadata": {},
   "outputs": [],
   "source": []
  }
 ],
 "metadata": {
  "kernelspec": {
   "display_name": "Python 3 (ipykernel)",
   "language": "python",
   "name": "python3"
  },
  "language_info": {
   "codemirror_mode": {
    "name": "ipython",
    "version": 3
   },
   "file_extension": ".py",
   "mimetype": "text/x-python",
   "name": "python",
   "nbconvert_exporter": "python",
   "pygments_lexer": "ipython3",
   "version": "3.9.1"
  }
 },
 "nbformat": 4,
 "nbformat_minor": 5
}
